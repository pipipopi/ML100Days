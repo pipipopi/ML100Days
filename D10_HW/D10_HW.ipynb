{
 "cells": [
  {
   "cell_type": "markdown",
   "metadata": {
    "id": "Uf6dEaWpP3lo"
   },
   "source": [
    "作業目標:<br>\n",
    "1. 運用索引找出需要資料<br>\n",
    "2. 合併資料的分法應用"
   ]
  },
  {
   "cell_type": "markdown",
   "metadata": {
    "id": "3rP6NOVVQZuB"
   },
   "source": [
    "作業重點:<br>\n",
    "1. 分辨索引loc、iloc差別\n",
    "2. 分辨合併資料方法的不同，因應不同情況使用Merge, join, concatenate"
   ]
  },
  {
   "cell_type": "markdown",
   "metadata": {
    "id": "02Ld_89FP-4N"
   },
   "source": [
    "題目:<br>\n",
    "讀取STOCK_DAY_0050_202009.csv串聯STOCK_DAY_0050_202010.csv，並且找出open小於close的資料\n"
   ]
  },
  {
   "cell_type": "code",
   "execution_count": 2,
   "metadata": {
    "id": "ysjY4kR5P4rA"
   },
   "outputs": [],
   "source": [
    "import pandas as pd"
   ]
  },
  {
   "cell_type": "code",
   "execution_count": 9,
   "metadata": {
    "id": "hsEDbEogG4DG"
   },
   "outputs": [],
   "source": [
    "#讀取STOCK_DAY_0050_202009.csv、STOCK_DAY_0050_202010.csv\n",
    "SD09 = pd.read_csv('STOCK_DAY_0050_202009.csv',usecols=['open','close'])\n",
    "SD10 = pd.read_csv('STOCK_DAY_0050_202010.csv',usecols=['open','close'])"
   ]
  },
  {
   "cell_type": "code",
   "execution_count": 10,
   "metadata": {
    "id": "cw3OMgQgG4DG"
   },
   "outputs": [
    {
     "name": "stdout",
     "output_type": "stream",
     "text": [
      "      open   close\n",
      "0   102.45  103.35\n",
      "1   103.65  103.00\n",
      "2   103.70  103.30\n",
      "3   102.00  102.55\n",
      "4   102.55  102.40\n",
      "5   102.75  103.00\n",
      "6   101.75  102.30\n",
      "7   102.80  103.20\n",
      "8   103.20  103.25\n",
      "9   103.50  104.55\n",
      "10  104.45  104.95\n",
      "11  106.55  106.55\n",
      "12  106.05  105.40\n",
      "13  105.40  105.30\n",
      "14  105.20  104.45\n",
      "15  104.30  103.10\n",
      "16  103.50  102.95\n",
      "17  101.55  100.45\n",
      "18  100.75  100.65\n",
      "19  101.35  102.30\n",
      "20  102.75  102.55\n",
      "21  102.75  103.00\n",
      "0   103.45  103.05\n",
      "1   104.00  104.25\n",
      "2   104.00  104.80\n",
      "3   105.45  106.20\n",
      "4   106.70  107.05\n",
      "5   107.35  107.10\n",
      "6   107.05  106.70\n",
      "7   106.50  105.70\n",
      "8   105.70  105.25\n",
      "9   105.65  106.60\n",
      "10  106.40  106.00\n",
      "11  106.00  105.95\n",
      "12  105.70  106.10\n",
      "13  106.50  106.10\n",
      "14  106.10  106.10\n",
      "15  105.75  105.50\n",
      "16  105.50  105.00\n",
      "17  104.00  103.85\n",
      "18  103.55  103.00\n"
     ]
    }
   ],
   "source": [
    "#串聯\n",
    "SDT = pd.concat([SD09,SD10],axis=0)\n",
    "print(SDT)"
   ]
  },
  {
   "cell_type": "code",
   "execution_count": 11,
   "metadata": {
    "executionInfo": {
     "elapsed": 957,
     "status": "ok",
     "timestamp": 1610348842287,
     "user": {
      "displayName": "献竤黃",
      "photoUrl": "",
      "userId": "07529243043474362942"
     },
     "user_tz": -480
    },
    "id": "LBBLV7TaG4DH",
    "scrolled": true
   },
   "outputs": [
    {
     "data": {
      "text/html": [
       "<div>\n",
       "<style scoped>\n",
       "    .dataframe tbody tr th:only-of-type {\n",
       "        vertical-align: middle;\n",
       "    }\n",
       "\n",
       "    .dataframe tbody tr th {\n",
       "        vertical-align: top;\n",
       "    }\n",
       "\n",
       "    .dataframe thead th {\n",
       "        text-align: right;\n",
       "    }\n",
       "</style>\n",
       "<table border=\"1\" class=\"dataframe\">\n",
       "  <thead>\n",
       "    <tr style=\"text-align: right;\">\n",
       "      <th></th>\n",
       "      <th>open</th>\n",
       "      <th>close</th>\n",
       "    </tr>\n",
       "  </thead>\n",
       "  <tbody>\n",
       "    <tr>\n",
       "      <th>0</th>\n",
       "      <td>102.45</td>\n",
       "      <td>103.35</td>\n",
       "    </tr>\n",
       "    <tr>\n",
       "      <th>3</th>\n",
       "      <td>102.00</td>\n",
       "      <td>102.55</td>\n",
       "    </tr>\n",
       "    <tr>\n",
       "      <th>5</th>\n",
       "      <td>102.75</td>\n",
       "      <td>103.00</td>\n",
       "    </tr>\n",
       "    <tr>\n",
       "      <th>6</th>\n",
       "      <td>101.75</td>\n",
       "      <td>102.30</td>\n",
       "    </tr>\n",
       "    <tr>\n",
       "      <th>7</th>\n",
       "      <td>102.80</td>\n",
       "      <td>103.20</td>\n",
       "    </tr>\n",
       "    <tr>\n",
       "      <th>8</th>\n",
       "      <td>103.20</td>\n",
       "      <td>103.25</td>\n",
       "    </tr>\n",
       "    <tr>\n",
       "      <th>9</th>\n",
       "      <td>103.50</td>\n",
       "      <td>104.55</td>\n",
       "    </tr>\n",
       "    <tr>\n",
       "      <th>10</th>\n",
       "      <td>104.45</td>\n",
       "      <td>104.95</td>\n",
       "    </tr>\n",
       "    <tr>\n",
       "      <th>19</th>\n",
       "      <td>101.35</td>\n",
       "      <td>102.30</td>\n",
       "    </tr>\n",
       "    <tr>\n",
       "      <th>21</th>\n",
       "      <td>102.75</td>\n",
       "      <td>103.00</td>\n",
       "    </tr>\n",
       "    <tr>\n",
       "      <th>1</th>\n",
       "      <td>104.00</td>\n",
       "      <td>104.25</td>\n",
       "    </tr>\n",
       "    <tr>\n",
       "      <th>2</th>\n",
       "      <td>104.00</td>\n",
       "      <td>104.80</td>\n",
       "    </tr>\n",
       "    <tr>\n",
       "      <th>3</th>\n",
       "      <td>105.45</td>\n",
       "      <td>106.20</td>\n",
       "    </tr>\n",
       "    <tr>\n",
       "      <th>4</th>\n",
       "      <td>106.70</td>\n",
       "      <td>107.05</td>\n",
       "    </tr>\n",
       "    <tr>\n",
       "      <th>9</th>\n",
       "      <td>105.65</td>\n",
       "      <td>106.60</td>\n",
       "    </tr>\n",
       "    <tr>\n",
       "      <th>12</th>\n",
       "      <td>105.70</td>\n",
       "      <td>106.10</td>\n",
       "    </tr>\n",
       "  </tbody>\n",
       "</table>\n",
       "</div>"
      ],
      "text/plain": [
       "      open   close\n",
       "0   102.45  103.35\n",
       "3   102.00  102.55\n",
       "5   102.75  103.00\n",
       "6   101.75  102.30\n",
       "7   102.80  103.20\n",
       "8   103.20  103.25\n",
       "9   103.50  104.55\n",
       "10  104.45  104.95\n",
       "19  101.35  102.30\n",
       "21  102.75  103.00\n",
       "1   104.00  104.25\n",
       "2   104.00  104.80\n",
       "3   105.45  106.20\n",
       "4   106.70  107.05\n",
       "9   105.65  106.60\n",
       "12  105.70  106.10"
      ]
     },
     "execution_count": 11,
     "metadata": {},
     "output_type": "execute_result"
    }
   ],
   "source": [
    "#找出open小於close的資料\n",
    "SDT[SDT.open<SDT.close]"
   ]
  },
  {
   "cell_type": "code",
   "execution_count": null,
   "metadata": {
    "id": "tZaFA68VG4DH"
   },
   "outputs": [],
   "source": []
  }
 ],
 "metadata": {
  "colab": {
   "collapsed_sections": [],
   "name": "pandas_select_merge_hw題目.ipynb",
   "provenance": []
  },
  "kernelspec": {
   "display_name": "Python 3",
   "language": "python",
   "name": "python3"
  },
  "language_info": {
   "codemirror_mode": {
    "name": "ipython",
    "version": 3
   },
   "file_extension": ".py",
   "mimetype": "text/x-python",
   "name": "python",
   "nbconvert_exporter": "python",
   "pygments_lexer": "ipython3",
   "version": "3.8.5"
  }
 },
 "nbformat": 4,
 "nbformat_minor": 1
}
